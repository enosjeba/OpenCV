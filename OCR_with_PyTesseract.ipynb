{
  "nbformat": 4,
  "nbformat_minor": 0,
  "metadata": {
    "colab": {
      "provenance": [],
      "authorship_tag": "ABX9TyP/xcL2O/wAJtjTQwNSfJIx"
    },
    "kernelspec": {
      "name": "python3",
      "display_name": "Python 3"
    },
    "language_info": {
      "name": "python"
    }
  },
  "cells": [
    {
      "cell_type": "markdown",
      "source": [
        "# PyTesseract"
      ],
      "metadata": {
        "id": "Gp4uX-3Laj7z"
      }
    },
    {
      "cell_type": "markdown",
      "source": [
        "#### install libraries"
      ],
      "metadata": {
        "id": "lqYUpEEeaqUS"
      }
    },
    {
      "cell_type": "code",
      "execution_count": null,
      "metadata": {
        "colab": {
          "base_uri": "https://localhost:8080/"
        },
        "id": "_ehCxXBXadpC",
        "outputId": "6d03b95b-071e-4cb1-d47f-f7b0ff4af5df"
      },
      "outputs": [
        {
          "output_type": "stream",
          "name": "stdout",
          "text": [
            "Reading package lists... Done\n",
            "Building dependency tree       \n",
            "Reading state information... Done\n",
            "tesseract-ocr is already the newest version (4.00~git2288-10f4998a-2).\n",
            "The following package was automatically installed and is no longer required:\n",
            "  libnvidia-common-460\n",
            "Use 'sudo apt autoremove' to remove it.\n",
            "0 upgraded, 0 newly installed, 0 to remove and 20 not upgraded.\n",
            "Looking in indexes: https://pypi.org/simple, https://us-python.pkg.dev/colab-wheels/public/simple/\n",
            "Requirement already satisfied: pytesseract in /usr/local/lib/python3.7/dist-packages (0.3.10)\n",
            "Requirement already satisfied: packaging>=21.3 in /usr/local/lib/python3.7/dist-packages (from pytesseract) (21.3)\n",
            "Requirement already satisfied: Pillow>=8.0.0 in /usr/local/lib/python3.7/dist-packages (from pytesseract) (9.2.0)\n",
            "Requirement already satisfied: pyparsing!=3.0.5,>=2.0.2 in /usr/local/lib/python3.7/dist-packages (from packaging>=21.3->pytesseract) (3.0.9)\n"
          ]
        }
      ],
      "source": [
        "# Install PyTesseract and setup on Colab\n",
        "!sudo apt install tesseract-ocr\n",
        "!pip install pytesseract"
      ]
    },
    {
      "cell_type": "code",
      "source": [
        "# Our Setup, Import Libaries, Create our Imshow Function and Download our Images\n",
        "import cv2\n",
        "import pytesseract\n",
        "import numpy as np\n",
        "from matplotlib import pyplot as plt\n",
        "\n",
        "pytesseract.pytesseract.tesseract_cmd = (\n",
        "    r'/usr/bin/tesseract'\n",
        ")\n",
        "\n",
        "# Define our imshow function \n",
        "def imshow(title = \"Image\", image = None, size = 10):\n",
        "    w, h = image.shape[0], image.shape[1]\n",
        "    aspect_ratio = w/h\n",
        "    plt.figure(figsize=(size * aspect_ratio,size))\n",
        "    plt.imshow(cv2.cvtColor(image, cv2.COLOR_BGR2RGB))\n",
        "    plt.title(title)\n",
        "    plt.show()\n",
        "\n",
        "# Download and unzip our images \n",
        "!wget https://moderncomputervision.s3.eu-west-2.amazonaws.com/OCRSamples.zip\n",
        "!unzip -qq OCRSamples.zip"
      ],
      "metadata": {
        "id": "vfa_milva3-g",
        "colab": {
          "base_uri": "https://localhost:8080/",
          "height": 392
        },
        "outputId": "c9b6ef14-ccaf-46b7-ffba-fc5d4daf4ffb"
      },
      "execution_count": null,
      "outputs": [
        {
          "output_type": "error",
          "ename": "ModuleNotFoundError",
          "evalue": "ignored",
          "traceback": [
            "\u001b[0;31m---------------------------------------------------------------------------\u001b[0m",
            "\u001b[0;31mModuleNotFoundError\u001b[0m                       Traceback (most recent call last)",
            "\u001b[0;32m<ipython-input-1-e172690063e5>\u001b[0m in \u001b[0;36m<module>\u001b[0;34m\u001b[0m\n\u001b[1;32m      1\u001b[0m \u001b[0;31m# Our Setup, Import Libaries, Create our Imshow Function and Download our Images\u001b[0m\u001b[0;34m\u001b[0m\u001b[0;34m\u001b[0m\u001b[0;34m\u001b[0m\u001b[0m\n\u001b[1;32m      2\u001b[0m \u001b[0;32mimport\u001b[0m \u001b[0mcv2\u001b[0m\u001b[0;34m\u001b[0m\u001b[0;34m\u001b[0m\u001b[0m\n\u001b[0;32m----> 3\u001b[0;31m \u001b[0;32mimport\u001b[0m \u001b[0mpytesseract\u001b[0m\u001b[0;34m\u001b[0m\u001b[0;34m\u001b[0m\u001b[0m\n\u001b[0m\u001b[1;32m      4\u001b[0m \u001b[0;32mimport\u001b[0m \u001b[0mnumpy\u001b[0m \u001b[0;32mas\u001b[0m \u001b[0mnp\u001b[0m\u001b[0;34m\u001b[0m\u001b[0;34m\u001b[0m\u001b[0m\n\u001b[1;32m      5\u001b[0m \u001b[0;32mfrom\u001b[0m \u001b[0mmatplotlib\u001b[0m \u001b[0;32mimport\u001b[0m \u001b[0mpyplot\u001b[0m \u001b[0;32mas\u001b[0m \u001b[0mplt\u001b[0m\u001b[0;34m\u001b[0m\u001b[0;34m\u001b[0m\u001b[0m\n",
            "\u001b[0;31mModuleNotFoundError\u001b[0m: No module named 'pytesseract'",
            "",
            "\u001b[0;31m---------------------------------------------------------------------------\u001b[0;32m\nNOTE: If your import is failing due to a missing package, you can\nmanually install dependencies using either !pip or !apt.\n\nTo view examples of installing some common dependencies, click the\n\"Open Examples\" button below.\n\u001b[0;31m---------------------------------------------------------------------------\u001b[0m\n"
          ],
          "errorDetails": {
            "actions": [
              {
                "action": "open_url",
                "actionText": "Open Examples",
                "url": "/notebooks/snippets/importing_libraries.ipynb"
              }
            ]
          }
        }
      ]
    },
    {
      "cell_type": "markdown",
      "source": [
        "#### First Try"
      ],
      "metadata": {
        "id": "Z5ywOssncHUJ"
      }
    },
    {
      "cell_type": "code",
      "source": [
        "img = cv2.imread('OCR Samples/OCR1.png')\n",
        "imshow(\"Input Image\", img)\n",
        "\n",
        "#Passing image through PyTesseract\n",
        "output_txt = pytesseract.image_to_string(img)\n",
        "\n",
        "print(\"PyTesseract Extracted: {}\".format(output_txt))"
      ],
      "metadata": {
        "id": "vIFxLBuScFgp"
      },
      "execution_count": null,
      "outputs": []
    },
    {
      "cell_type": "markdown",
      "source": [
        "#### White Text on Black Background"
      ],
      "metadata": {
        "id": "vCL5a87sfJW4"
      }
    },
    {
      "cell_type": "code",
      "source": [
        "img = cv2.imread('OCR Samples/OCR2.png')\n",
        "imshow(\"Input Image\", img)\n",
        "\n",
        "output_txt = pytesseract.image_to_string(img)\n",
        "\n",
        "print(\"Pytesseract Extracted: {}\".format(output_txt))"
      ],
      "metadata": {
        "id": "qmt-6uEVdHVz"
      },
      "execution_count": null,
      "outputs": []
    },
    {
      "cell_type": "markdown",
      "source": [
        "#### Messy Background"
      ],
      "metadata": {
        "id": "i3XMVtxmfXqm"
      }
    },
    {
      "cell_type": "code",
      "source": [
        "img = cv2.imread('OCR Samples/OCR3.png')\n",
        "imshow(\"Input Image\", img)\n",
        "\n",
        "output_txt = pytesseract.image_to_string(img)\n",
        "\n",
        "print(\"PyTesseract Extracted: {}\".format(output_txt))"
      ],
      "metadata": {
        "id": "-kfiNN8NfNLP"
      },
      "execution_count": null,
      "outputs": []
    },
    {
      "cell_type": "markdown",
      "source": [
        "#### Real Scan"
      ],
      "metadata": {
        "id": "beOIls6jgas4"
      }
    },
    {
      "cell_type": "code",
      "source": [
        "img = cv2.imread('OCR Samples/scan2.jpeg')\n",
        "imshow(\"Input Image\", img, size = 48)\n",
        "\n",
        "output_txt = pytesseract.image_to_string(img)\n",
        "\n",
        "print(\"Pytesseract Extracted: {}\".format(output_txt))"
      ],
      "metadata": {
        "id": "-uGI4o92fvxR"
      },
      "execution_count": null,
      "outputs": []
    },
    {
      "cell_type": "markdown",
      "source": [
        "#### Cleaning up the Images"
      ],
      "metadata": {
        "id": "nY7NKS_-hes2"
      }
    },
    {
      "cell_type": "code",
      "source": [
        "from skimage.filters import threshold_local\n",
        "\n",
        "image = cv2.imread('OCR Samples/scan2.jpeg')\n",
        "imshow(\"Input Image\", image, size = 48)\n",
        "\n",
        "H = cv2.split(cv2.cvtColor(image, cv2.COLOR_BGR2HSV))[0]\n",
        "S = cv2.split(cv2.cvtColor(image, cv2.COLOR_BGR2HSV))[1]\n",
        "V = cv2.split(cv2.cvtColor(image, cv2.COLOR_BGR2HSV))[2]\n",
        "\n",
        "imshow(\"Split\", H)\n",
        "imshow(\"Split\", S)\n",
        "imshow(\"Split\", V)\n",
        "\n",
        "T = threshold_local(V, 25, offset = 15, method=\"gaussian\")\n",
        "\n",
        "thresh = ( V > T).astype(\"uint8\") * 255\n",
        "imshow(\"threshold Local\", thresh, size = 48)\n",
        "\n",
        "output_txt = pytesseract.image_to_string(thresh)\n",
        "print(\"PyTesseract Extracted: {}\".format(output_txt))"
      ],
      "metadata": {
        "id": "W1a27Eudg-nI"
      },
      "execution_count": null,
      "outputs": []
    },
    {
      "cell_type": "markdown",
      "source": [
        "# Thresholding"
      ],
      "metadata": {
        "id": "eGJJV5jsj5gG"
      }
    },
    {
      "cell_type": "markdown",
      "source": [
        "Good practices for OCR Recognition\n",
        "\n",
        "* Bluring\n",
        "* Thresholding\n",
        "* Deskewing\n",
        "* Dilaiton / Erosion / Opening / Closing\n",
        "* Noise Removal"
      ],
      "metadata": {
        "id": "9YiRoNuzj7_9"
      }
    },
    {
      "cell_type": "code",
      "source": [
        "# Get our new test image\n",
        "!wget https://github.com/rajeevratan84/ModernComputerVision/raw/main/Receipt-woolworth.jpg"
      ],
      "metadata": {
        "id": "R_r636MShvQD"
      },
      "execution_count": null,
      "outputs": []
    },
    {
      "cell_type": "code",
      "source": [
        "from skimage.filters import threshold_local\n",
        "\n",
        "image = cv2.imread('Receipt-woolworth.jpg')\n",
        "\n",
        "V = cv2.split(cv2.cvtColor(image, cv2.COLOR_BGR2HSV))[2]\n",
        "T = threshold_local(V, 25, offset = 15, method=\"gaussian\")\n",
        "\n",
        "thresh = (V>T).astype(\"uint8\") * 255\n",
        "imshow(\"Threshold Local\", thresh)\n",
        "\n",
        "output_txt = pytesseract.image_to_string(thresh)\n",
        "print(\"PyTesseract Extracted: {}\".format(output_txt))"
      ],
      "metadata": {
        "id": "vGdI-1zckox1"
      },
      "execution_count": null,
      "outputs": []
    },
    {
      "cell_type": "code",
      "source": [
        "from pytesseract import Output\n",
        "\n",
        "d = pytesseract.image_to_data(thresh, output_type = Output.DICT)\n",
        "print(d.keys())"
      ],
      "metadata": {
        "id": "MSsNpXQhlXp2"
      },
      "execution_count": null,
      "outputs": []
    },
    {
      "cell_type": "markdown",
      "source": [
        "Using dictionary we can get each word detected, their bounding box information, the text in them and the confidence scores for each"
      ],
      "metadata": {
        "id": "rgmKg8S7mysd"
      }
    },
    {
      "cell_type": "code",
      "source": [
        "n_boxes = len(d['text'])\n",
        "\n",
        "for i in range(n_boxes):\n",
        "    if int(d['conf'][i]) > 60:\n",
        "        (x, y, w, h) = (d['left'][i], d['top'][i], d['width'][i], d['height'][i])\n",
        "        image = cv2.rectangle(image, (x, y), (x + w, y + h), (0, 255, 0), 2)\n",
        "\n",
        "imshow('Output', image, size = 12)"
      ],
      "metadata": {
        "id": "itsEjMOMmoYN"
      },
      "execution_count": null,
      "outputs": []
    }
  ]
}