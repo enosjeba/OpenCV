{
  "nbformat": 4,
  "nbformat_minor": 0,
  "metadata": {
    "colab": {
      "provenance": [],
      "authorship_tag": "ABX9TyNlxd+ITmDDTVBv+JViKABo"
    },
    "kernelspec": {
      "name": "python3",
      "display_name": "Python 3"
    },
    "language_info": {
      "name": "python"
    }
  },
  "cells": [
    {
      "cell_type": "code",
      "source": [
        "# Our Setup, Import Libaries, Create our Imshow Function and Download our Images\n",
        "import cv2\n",
        "import sys\n",
        "import numpy as np\n",
        "from matplotlib import pyplot as plt\n",
        "\n",
        "# Define our imshow function \n",
        "def imshow(title = \"Image\", image = None, size = 10):\n",
        "    w, h = image.shape[0], image.shape[1]\n",
        "    aspect_ratio = w/h\n",
        "    plt.figure(figsize=(size * aspect_ratio,size))\n",
        "    plt.imshow(cv2.cvtColor(image, cv2.COLOR_BGR2RGB))\n",
        "    plt.title(title)\n",
        "    plt.show()\n",
        "\n",
        "# Download our images\n",
        "!wget https://moderncomputervision.s3.eu-west-2.amazonaws.com/images_tilt.zip\n",
        "!unzip -qq images_tilt.zip\n",
        "!find . -name \".DS_Store\" -delete\n",
        "!find . -name \".ipynb_checkpoints\" -delete"
      ],
      "metadata": {
        "id": "Awhreu-H9GZE"
      },
      "execution_count": null,
      "outputs": []
    },
    {
      "cell_type": "code",
      "execution_count": 1,
      "metadata": {
        "id": "nBj5DX3G8deP"
      },
      "outputs": [],
      "source": [
        "import cv2\n",
        "import math\n",
        "import os\n",
        "import numpy as np\n",
        "import scipy.signal\n",
        "import shutil"
      ]
    },
    {
      "cell_type": "code",
      "source": [
        "\"\"\"Script to blend two images\"\"\"\n",
        "\n"
      ],
      "metadata": {
        "id": "uMq60rba9LEz"
      },
      "execution_count": null,
      "outputs": []
    }
  ]
}