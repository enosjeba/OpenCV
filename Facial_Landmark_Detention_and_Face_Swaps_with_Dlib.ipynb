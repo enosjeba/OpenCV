{
  "nbformat": 4,
  "nbformat_minor": 0,
  "metadata": {
    "colab": {
      "provenance": [],
      "authorship_tag": "ABX9TyMb8I7wpD/dC9nV3joMuvRy"
    },
    "kernelspec": {
      "name": "python3",
      "display_name": "Python 3"
    },
    "language_info": {
      "name": "python"
    }
  },
  "cells": [
    {
      "cell_type": "code",
      "execution_count": 1,
      "metadata": {
        "colab": {
          "base_uri": "https://localhost:8080/"
        },
        "id": "F26lPHEYyKR3",
        "outputId": "98787528-8e49-4203-e452-ff91fda4da36"
      },
      "outputs": [
        {
          "output_type": "stream",
          "name": "stdout",
          "text": [
            "--2022-09-13 08:02:39--  https://moderncomputervision.s3.eu-west-2.amazonaws.com/images.zip\n",
            "Resolving moderncomputervision.s3.eu-west-2.amazonaws.com (moderncomputervision.s3.eu-west-2.amazonaws.com)... 52.95.148.78\n",
            "Connecting to moderncomputervision.s3.eu-west-2.amazonaws.com (moderncomputervision.s3.eu-west-2.amazonaws.com)|52.95.148.78|:443... connected.\n",
            "HTTP request sent, awaiting response... 200 OK\n",
            "Length: 29586716 (28M) [application/zip]\n",
            "Saving to: ‘images.zip’\n",
            "\n",
            "images.zip          100%[===================>]  28.22M  16.2MB/s    in 1.7s    \n",
            "\n",
            "2022-09-13 08:02:41 (16.2 MB/s) - ‘images.zip’ saved [29586716/29586716]\n",
            "\n",
            "--2022-09-13 08:02:41--  https://moderncomputervision.s3.eu-west-2.amazonaws.com/shape_predictor_68_face_landmarks.zip\n",
            "Resolving moderncomputervision.s3.eu-west-2.amazonaws.com (moderncomputervision.s3.eu-west-2.amazonaws.com)... 52.95.148.18\n",
            "Connecting to moderncomputervision.s3.eu-west-2.amazonaws.com (moderncomputervision.s3.eu-west-2.amazonaws.com)|52.95.148.18|:443... connected.\n",
            "HTTP request sent, awaiting response... 200 OK\n",
            "Length: 72326300 (69M) [application/zip]\n",
            "Saving to: ‘shape_predictor_68_face_landmarks.zip’\n",
            "\n",
            "shape_predictor_68_ 100%[===================>]  68.98M  23.0MB/s    in 3.0s    \n",
            "\n",
            "2022-09-13 08:02:45 (23.0 MB/s) - ‘shape_predictor_68_face_landmarks.zip’ saved [72326300/72326300]\n",
            "\n"
          ]
        }
      ],
      "source": [
        "# Our Setup, Import Libaries, Create our Imshow Function and Download our Images\n",
        "import cv2\n",
        "import dlib\n",
        "import numpy as np\n",
        "from matplotlib import pyplot as plt\n",
        "\n",
        "# Define our imshow function \n",
        "def imshow(title = \"Image\", image = None, size = 10):\n",
        "    w, h = image.shape[0], image.shape[1]\n",
        "    aspect_ratio = w/h\n",
        "    plt.figure(figsize=(size * aspect_ratio,size))\n",
        "    plt.imshow(cv2.cvtColor(image, cv2.COLOR_BGR2RGB))\n",
        "    plt.title(title)\n",
        "    plt.show()\n",
        "    \n",
        "# Download and unzip our images and Facial landmark model\n",
        "!wget https://moderncomputervision.s3.eu-west-2.amazonaws.com/images.zip\n",
        "!wget https://moderncomputervision.s3.eu-west-2.amazonaws.com/shape_predictor_68_face_landmarks.zip\n",
        "!unzip -qq images.zip\n",
        "!unzip -qq shape_predictor_68_face_landmarks.zip"
      ]
    },
    {
      "cell_type": "markdown",
      "source": [
        "# Facial Landmark Detection"
      ],
      "metadata": {
        "id": "FKM6rGZT304D"
      }
    },
    {
      "cell_type": "code",
      "source": [
        "PREDICTOR_PATH = \"shape_predictor_68_face_landmarks.dat\"\n",
        "predictor = dlib.shape_predictor(PREDICTOR_PATH)\n",
        "detector = dlib.get_frontal_face_detector()\n",
        "\n",
        "class TooManyFaces(Exception):\n",
        "  pass\n",
        "\n",
        "class NoFaces(Exception):\n",
        "  pass\n",
        "\n",
        "def get_landmarks(im):\n",
        "  rects = detector(im, 1)\n",
        "\n",
        "  if len(rects) > 1:\n",
        "    raise TooManyFaces\n",
        "  if len(rects) == 0:\n",
        "    raise NoFaces\n",
        "  \n",
        "  return np.matrix([[p.x, p.y for p in predictor(im, rects[0]).parts()]])\n",
        "\n",
        "def annotate_landmarks(im, landmarks):\n",
        "  im = im.copy()\n",
        "  for idx, point in enumerate(landmarks):\n",
        "    pos = (point[0,0], point[0,1])\n",
        "    cv2.putText(im, str(idx), pos,\n",
        "                fontFace = cv2.FONT_HERSHEY_SCRIPT_SIMPLEX,\n",
        "                fontScale = 0.4,\n",
        "                color = (0, 0, 255))\n",
        "    cv2.circle(im, pos, 3, )\n",
        "    "
      ],
      "metadata": {
        "id": "yVRnoQRV3svg"
      },
      "execution_count": null,
      "outputs": []
    }
  ]
}